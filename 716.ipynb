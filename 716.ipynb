{
 "cells": [
  {
   "cell_type": "markdown",
   "metadata": {},
   "source": [
    "# 問題\n",
    "\n",
    "次の定積分の値を求めよ。\n",
    "\n",
    "$$\\int_1^3\\dfrac{dx}{\\sqrt{4x-x^2}}$$"
   ]
  },
  {
   "cell_type": "markdown",
   "metadata": {},
   "source": [
    "# 解答\n",
    "\n",
    "$4x-x^2=4-(x-2)^2$である。$x-2=2\\sin\\theta$とおくと，\n",
    "\n",
    "$$dx=2\\cos\\theta d\\theta$$\n",
    "\n",
    "| $x$ | $1\\to3$ |\n",
    "| :----: | :----: |\n",
    "| $\\theta$ | $-\\dfrac{\\pi}6\\to\\dfrac{\\pi}6$ |\n",
    "\n",
    "\n",
    "$$\\begin{aligned}\n",
    "\\int_1^3\\dfrac{dx}{\\sqrt{4x-x^2}}&=\n",
    "\\int_{-\\frac{\\pi}6}^{\\frac{\\pi}6}\\dfrac{2\\cos\\theta d\\theta}{\\sqrt{4\\cos^2\\theta}}\n",
    "=\\int_{-\\frac{\\pi}6}^{\\frac{\\pi}6}\\dfrac{2\\cos\\theta d\\theta}{2\\cos\\theta}\n",
    "=\\int_{-\\frac{\\pi}6}^{\\frac{pi}6}d\\theta\n",
    "=2\\times \\dfrac{\\pi}6=\\boldsymbol{\\dfrac{\\pi}{3}}\n",
    "\\end{aligned}$$ \n"
   ]
  },
  {
   "cell_type": "code",
   "execution_count": null,
   "metadata": {},
   "outputs": [],
   "source": []
  }
 ],
 "metadata": {
  "kernelspec": {
   "display_name": "Julia 1.7.3",
   "language": "julia",
   "name": "julia-1.7"
  },
  "language_info": {
   "file_extension": ".jl",
   "mimetype": "application/julia",
   "name": "julia",
   "version": "1.7.3"
  },
  "orig_nbformat": 4
 },
 "nbformat": 4,
 "nbformat_minor": 2
}
