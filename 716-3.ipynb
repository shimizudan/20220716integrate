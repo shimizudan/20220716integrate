{
 "cells": [
  {
   "cell_type": "markdown",
   "metadata": {},
   "source": [
    "### 問題\n",
    "\n",
    "次の初期条件と漸化式で定まる数列の一般項を求めよ。\n",
    "\n",
    "$$a_1=1,\\,a_2=3,\\,a_{n+2}-3a_{n+1}+2a_n=0$$\n"
   ]
  },
  {
   "cell_type": "markdown",
   "metadata": {},
   "source": [
    "### 解答\n",
    "\n",
    "特性方程式（固有方程式）$x^2-3x+2=0$を解くと，$x=1,\\,2$となる。よって，$a_n$は\n",
    "\n",
    "$$a_n=p\\cdot1^{n-1}+q\\cdot2^{n-1}$$\n",
    "\n",
    "とおける。\n",
    "\n",
    "$a_1=p+q=1$，$a_2=p+2q=3$となるので，\n",
    "$$p=-1,\\,q=2$$\n",
    "$$\\therefore \\boldsymbol{a_n=2^n-1}$$"
   ]
  },
  {
   "cell_type": "markdown",
   "metadata": {},
   "source": [
    "### Mathematicaによるチェック！"
   ]
  },
  {
   "cell_type": "code",
   "execution_count": 1,
   "metadata": {},
   "outputs": [],
   "source": [
    "using MathLink,MathLinkExtras"
   ]
  },
  {
   "cell_type": "code",
   "execution_count": 3,
   "metadata": {},
   "outputs": [
    {
     "data": {
      "text/latex": [
       "$\\left\\{\\left\\{a(n)\\to 2^n-1\\right\\}\\right\\}$"
      ],
      "text/plain": [
       "W\"List\"(W\"List\"(W\"Rule\"(W\"a\"(W\"n\"), W\"Plus\"(-1, W\"Power\"(2, W\"n\")))))"
      ]
     },
     "metadata": {},
     "output_type": "display_data"
    }
   ],
   "source": [
    "weval(W`RSolve[{a[n + 2] - 3 a[n+1]+2 a[n] == 0, a[1] == 1,a[2]==3}, a[n], n]`)"
   ]
  }
 ],
 "metadata": {
  "kernelspec": {
   "display_name": "Julia 1.7.3",
   "language": "julia",
   "name": "julia-1.7"
  },
  "language_info": {
   "file_extension": ".jl",
   "mimetype": "application/julia",
   "name": "julia",
   "version": "1.7.3"
  },
  "orig_nbformat": 4,
  "vscode": {
   "interpreter": {
    "hash": "aee8b7b246df8f9039afb4144a1f6fd8d2ca17a180786b69acc140d282b71a49"
   }
  }
 },
 "nbformat": 4,
 "nbformat_minor": 2
}
